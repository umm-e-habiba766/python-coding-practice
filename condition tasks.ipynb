{
 "cells": [
  {
   "cell_type": "code",
   "execution_count": 14,
   "id": "4574a947-8ffd-4551-a3e8-12ccff223e7a",
   "metadata": {},
   "outputs": [
    {
     "name": "stdin",
     "output_type": "stream",
     "text": [
      "Enter basic salary:  20000\n"
     ]
    },
    {
     "name": "stdout",
     "output_type": "stream",
     "text": [
      "Gross Salary = 43000.0\n"
     ]
    }
   ],
   "source": [
    "#1-Gross Salary Calculation\n",
    "basic_salary = float(input(\"Enter basic salary: \"))\n",
    "\n",
    "if basic_salary <= 10000:\n",
    "    hra = 0.20 * basic_salary\n",
    "    da = 0.80 * basic_salary\n",
    "elif basic_salary <= 20000:\n",
    "    hra = 0.25 * basic_salary\n",
    "    da = 0.90 * basic_salary\n",
    "else:\n",
    "    hra = 0.30 * basic_salary\n",
    "    da = 0.95 * basic_salary\n",
    "\n",
    "gross_salary = basic_salary + hra + da\n",
    "print(\"Gross Salary =\", gross_salary)"
   ]
  },
  {
   "cell_type": "code",
   "execution_count": 15,
   "id": "43e2b2b4-ad59-41d6-988a-1c9eb62f5aba",
   "metadata": {},
   "outputs": [
    {
     "name": "stdin",
     "output_type": "stream",
     "text": [
      "Enter quantity:  3\n",
      "Enter price per item:  67\n"
     ]
    },
    {
     "name": "stdout",
     "output_type": "stream",
     "text": [
      "Total expenses = 201.0\n"
     ]
    }
   ],
   "source": [
    "#2-Discount on items\n",
    "quantity = int(input(\"Enter quantity: \"))\n",
    "price = float(input(\"Enter price per item: \"))\n",
    "\n",
    "total = quantity * price\n",
    "\n",
    "if quantity > 100:\n",
    "    total = total - (0.10 * total)\n",
    "\n",
    "print(\"Total expenses =\", total)"
   ]
  },
  {
   "cell_type": "code",
   "execution_count": 16,
   "id": "974ddbe6-639c-48dd-99b3-e69ec343c68d",
   "metadata": {},
   "outputs": [
    {
     "name": "stdin",
     "output_type": "stream",
     "text": [
      "Enter current year:  2025\n",
      "Enter joining year:  2005\n"
     ]
    },
    {
     "name": "stdout",
     "output_type": "stream",
     "text": [
      "Bonus = 2500\n"
     ]
    }
   ],
   "source": [
    "#3-Bonus on years of service\n",
    "current_year = int(input(\"Enter current year: \"))\n",
    "join_year = int(input(\"Enter joining year: \"))\n",
    "\n",
    "years = current_year - join_year\n",
    "\n",
    "if years > 3:\n",
    "    print(\"Bonus = 2500\")\n",
    "else:\n",
    "    print(\"No Bonus\")"
   ]
  },
  {
   "cell_type": "code",
   "execution_count": 17,
   "id": "886b0e14-e2a2-40d9-a2b4-8f7417d00c13",
   "metadata": {},
   "outputs": [
    {
     "name": "stdin",
     "output_type": "stream",
     "text": [
      "Enter basic salary:  8000\n"
     ]
    },
    {
     "name": "stdout",
     "output_type": "stream",
     "text": [
      "Gross Salary = 16340.0\n"
     ]
    }
   ],
   "source": [
    "#4-Gross salary\n",
    "basic_salary = float(input(\"Enter basic salary: \"))\n",
    "\n",
    "if basic_salary < 1500:\n",
    "    hra = 0.10 * basic_salary\n",
    "    da = 0.90 * basic_salary\n",
    "else:\n",
    "    hra = 500\n",
    "    da = 0.98 * basic_salary\n",
    "\n",
    "gross_salary = basic_salary + hra + da\n",
    "print(\"Gross Salary =\", gross_salary)"
   ]
  },
  {
   "cell_type": "code",
   "execution_count": 18,
   "id": "b9ce5273-b256-4c71-9557-b5ced48f5db4",
   "metadata": {},
   "outputs": [
    {
     "name": "stdin",
     "output_type": "stream",
     "text": [
      "Enter marks of subject 1:  45\n",
      "Enter marks of subject 2:  20\n",
      "Enter marks of subject 3:  46\n",
      "Enter marks of subject 4:  79\n",
      "Enter marks of subject 5:  80\n"
     ]
    },
    {
     "name": "stdout",
     "output_type": "stream",
     "text": [
      "270.0\n",
      "54.0\n",
      "Second Division\n"
     ]
    }
   ],
   "source": [
    "#5-Division of student\n",
    "subject1 = float(input(\"Enter marks of subject 1: \"))\n",
    "subject2 = float(input(\"Enter marks of subject 2: \"))\n",
    "subject3 = float(input(\"Enter marks of subject 3: \"))\n",
    "subject4 = float(input(\"Enter marks of subject 4: \"))\n",
    "subject5 = float(input(\"Enter marks of subject 5: \"))\n",
    "total_marks = subject1 + subject2 + subject3 + subject4 + subject5\n",
    "print(total_marks)\n",
    "percentage = total_marks/5\n",
    "print(percentage)\n",
    "if percentage >= 60:\n",
    "    print(\"First Division\")\n",
    "elif percentage >= 50:\n",
    "    print(\"Second Division\")\n",
    "elif percentage >= 40:\n",
    "    print(\"Third Division\")\n",
    "else:\n",
    "    print(\"Fail\")\n",
    "\n"
   ]
  },
  {
   "cell_type": "code",
   "execution_count": 19,
   "id": "672b344d-fcd2-45ea-bf69-87f7d6415e93",
   "metadata": {},
   "outputs": [
    {
     "name": "stdin",
     "output_type": "stream",
     "text": [
      "Is the driver married? :  yes\n"
     ]
    },
    {
     "name": "stdout",
     "output_type": "stream",
     "text": [
      "Driver is insured\n"
     ]
    }
   ],
   "source": [
    "#6-Driver Insurance\n",
    "married = input(\"Is the driver married? : \")\n",
    "if married == \"yes\":\n",
    "    print(\"Driver is insured\")\n",
    "else:\n",
    "    gender = input(\"Enter gender : \")\n",
    "    age = int(input(\"Enter age: \"))\n",
    "\n",
    "    if gender == \"male\" and age > 30:\n",
    "        print(\"Driver is insured\")\n",
    "    elif gender == \"female\" and age > 25:\n",
    "        print(\"Driver is insured\")\n",
    "    else:\n",
    "        print(\"Driver is not insured\")\n"
   ]
  },
  {
   "cell_type": "code",
   "execution_count": 20,
   "id": "c4bbc899-7053-4e70-9234-1d950e03cfb8",
   "metadata": {},
   "outputs": [
    {
     "name": "stdin",
     "output_type": "stream",
     "text": [
      "Enter gender :  female\n",
      "Enter years of service:  10\n",
      "Enter qualification :  graduate\n"
     ]
    },
    {
     "name": "stdout",
     "output_type": "stream",
     "text": [
      "Salary = 9000\n"
     ]
    }
   ],
   "source": [
    "#7-Salary as per table\n",
    "gender = input(\"Enter gender : \")\n",
    "service = int(input(\"Enter years of service: \"))\n",
    "qualification = input(\"Enter qualification : \")\n",
    "\n",
    "if gender == \"male\":\n",
    "    if service >= 10 and qualification == \"post-graduate\":\n",
    "        salary = 15000\n",
    "    elif service >= 10 and qualification == \"graduate\":\n",
    "        salary = 10000\n",
    "    elif service < 10 and qualification == \"post-graduate\":\n",
    "        salary = 10000\n",
    "    else:\n",
    "        salary = 7000\n",
    "elif gender == \"female\":\n",
    "    if service >= 10 and qualification == \"post-graduate\":\n",
    "        salary = 12000\n",
    "    elif service >= 10 and qualification == \"graduate\":\n",
    "        salary = 9000\n",
    "    elif service < 10 and qualification == \"post-graduate\":\n",
    "        salary = 10000\n",
    "    else:\n",
    "        salary = 6000\n",
    "\n",
    "print(\"Salary =\", salary)\n"
   ]
  },
  {
   "cell_type": "code",
   "execution_count": null,
   "id": "b8c519a3-c070-4258-b674-cbf079dda41f",
   "metadata": {},
   "outputs": [],
   "source": []
  }
 ],
 "metadata": {
  "kernelspec": {
   "display_name": "Python [conda env:base] *",
   "language": "python",
   "name": "conda-base-py"
  },
  "language_info": {
   "codemirror_mode": {
    "name": "ipython",
    "version": 3
   },
   "file_extension": ".py",
   "mimetype": "text/x-python",
   "name": "python",
   "nbconvert_exporter": "python",
   "pygments_lexer": "ipython3",
   "version": "3.13.5"
  }
 },
 "nbformat": 4,
 "nbformat_minor": 5
}
