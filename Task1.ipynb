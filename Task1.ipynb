{
 "cells": [
  {
   "cell_type": "code",
   "execution_count": null,
   "id": "e15decd5-13b6-4893-8d9d-25c9e8895172",
   "metadata": {},
   "outputs": [
    {
     "name": "stdin",
     "output_type": "stream",
     "text": [
      "Enter a age:  50\n"
     ]
    }
   ],
   "source": [
    "age=int(input(\"Enter a age: \"))\n",
    "monthly_income=int(input(\"Enter a customer monthly income: \"))\n",
    "credit_score=int(input(\"Enter a credit score: \"))\n",
    "collateral_input = input(\"Do you have collateral?: \")\n",
    "if collateral_input == \"yes\":\n",
    "    collateral = True\n",
    "else:\n",
    "    collateral = False\n",
    "if 21 <= age <= 60:\n",
    "    if monthly_income >= 50000:\n",
    "        if credit_score >= 700:\n",
    "            if age > 50 and not collateral:\n",
    "                print(\"Loan Rejected (Collateral Required)\")\n",
    "            else:\n",
    "                print(\"Loan Approved\")\n",
    "        else:\n",
    "            print(\"Loan Rejected (Low Credit Score)\")\n",
    "    else:\n",
    "        print(\"Loan Rejected (Low Income)\")\n",
    "else:\n",
    "    print(\"Loan Rejected (Invalid Age)\")\n"
   ]
  },
  {
   "cell_type": "code",
   "execution_count": null,
   "id": "0873ff82-12af-4035-b2f8-b7588fc81f8e",
   "metadata": {},
   "outputs": [],
   "source": []
  }
 ],
 "metadata": {
  "kernelspec": {
   "display_name": "Python [conda env:base] *",
   "language": "python",
   "name": "conda-base-py"
  },
  "language_info": {
   "codemirror_mode": {
    "name": "ipython",
    "version": 3
   },
   "file_extension": ".py",
   "mimetype": "text/x-python",
   "name": "python",
   "nbconvert_exporter": "python",
   "pygments_lexer": "ipython3",
   "version": "3.13.5"
  }
 },
 "nbformat": 4,
 "nbformat_minor": 5
}
