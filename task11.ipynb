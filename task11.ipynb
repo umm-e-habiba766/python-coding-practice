{
 "cells": [
  {
   "cell_type": "code",
   "execution_count": 1,
   "id": "b2ce7666-a88f-4471-bfc5-356abd47d3df",
   "metadata": {},
   "outputs": [
    {
     "name": "stdin",
     "output_type": "stream",
     "text": [
      "Enter bill amount:  5000\n",
      "Do you have a credit card? (yes/no):  no\n"
     ]
    },
    {
     "name": "stdout",
     "output_type": "stream",
     "text": [
      "Final Bill Amount: 4000.0\n"
     ]
    }
   ],
   "source": [
    "bill = float(input(\"Enter bill amount: \"))\n",
    "credit_card = input(\"Do you have a credit card?: \")\n",
    "\n",
    "if credit_card == \"yes\":\n",
    "    credit_card = True\n",
    "else:\n",
    "    credit_card = False\n",
    "\n",
    "discount = 0\n",
    "\n",
    "if bill >= 5000:\n",
    "    discount = 0.2\n",
    "else:\n",
    "    if bill >= 3000:\n",
    "        discount = 0.1\n",
    "\n",
    "final = bill * (1 - discount)\n",
    "\n",
    "if credit_card:\n",
    "    final = final * 0.95\n",
    "\n",
    "print(\"Final Bill Amount:\", final)\n"
   ]
  },
  {
   "cell_type": "code",
   "execution_count": null,
   "id": "5479072c-f1a3-48df-9d24-f9d1d0506a1f",
   "metadata": {},
   "outputs": [],
   "source": []
  }
 ],
 "metadata": {
  "kernelspec": {
   "display_name": "Python [conda env:base] *",
   "language": "python",
   "name": "conda-base-py"
  },
  "language_info": {
   "codemirror_mode": {
    "name": "ipython",
    "version": 3
   },
   "file_extension": ".py",
   "mimetype": "text/x-python",
   "name": "python",
   "nbconvert_exporter": "python",
   "pygments_lexer": "ipython3",
   "version": "3.13.5"
  }
 },
 "nbformat": 4,
 "nbformat_minor": 5
}
