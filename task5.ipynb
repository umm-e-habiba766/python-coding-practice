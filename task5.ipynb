{
 "cells": [
  {
   "cell_type": "code",
   "execution_count": 1,
   "id": "4f94151e-89bb-4944-82ee-b21e21793194",
   "metadata": {},
   "outputs": [
    {
     "name": "stdin",
     "output_type": "stream",
     "text": [
      "Enter age:  20\n",
      "Is the patient critical? (yes/no):  no\n",
      "Does the patient have an appointment? (yes/no):  yes\n"
     ]
    },
    {
     "name": "stdout",
     "output_type": "stream",
     "text": [
      "Treated after Priority Cases\n"
     ]
    }
   ],
   "source": [
    "age=int(input(\"Enter age: \"))\n",
    "critical = input(\"Is the patient critical? (yes/no): \")\n",
    "appointment = input(\"Does the patient have an appointment? (yes/no): \")\n",
    "if critical == \"yes\":\n",
    "    critical = True\n",
    "else:\n",
    "    critical = False\n",
    "if appointment == \"yes\":\n",
    "    appointment = True\n",
    "else:\n",
    "    appointment = False\n",
    "if age > 60 or critical:\n",
    "    print(\"Immediate Treatment\")\n",
    "else:\n",
    "    if appointment:\n",
    "        print(\"Treated after Priority Cases\")\n",
    "    else:\n",
    "        print(\"General Queue\")"
   ]
  },
  {
   "cell_type": "code",
   "execution_count": null,
   "id": "62c240e8-819a-4a6f-8b62-9690057f687f",
   "metadata": {},
   "outputs": [],
   "source": []
  }
 ],
 "metadata": {
  "kernelspec": {
   "display_name": "Python [conda env:base] *",
   "language": "python",
   "name": "conda-base-py"
  },
  "language_info": {
   "codemirror_mode": {
    "name": "ipython",
    "version": 3
   },
   "file_extension": ".py",
   "mimetype": "text/x-python",
   "name": "python",
   "nbconvert_exporter": "python",
   "pygments_lexer": "ipython3",
   "version": "3.13.5"
  }
 },
 "nbformat": 4,
 "nbformat_minor": 5
}
