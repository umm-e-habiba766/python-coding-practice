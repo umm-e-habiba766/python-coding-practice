{
 "cells": [
  {
   "cell_type": "code",
   "execution_count": 2,
   "id": "a606826d-0d47-4ebc-b7d4-0106f8453b8b",
   "metadata": {},
   "outputs": [
    {
     "name": "stdin",
     "output_type": "stream",
     "text": [
      "Are you at home? :  yes\n",
      "Enter time:  5\n",
      "Enter temperature:  34\n"
     ]
    },
    {
     "name": "stdout",
     "output_type": "stream",
     "text": [
      "Lights On, Fan/AC On\n"
     ]
    }
   ],
   "source": [
    "at_home = input(\"Are you at home? : \")\n",
    "time = int(input(\"Enter time: \"))\n",
    "temp = float(input(\"Enter temperature: \"))\n",
    "\n",
    "if at_home == \"yes\":\n",
    "    at_home = True\n",
    "else:\n",
    "    at_home = False\n",
    "\n",
    "if not at_home:\n",
    "    print(\"All Appliances Off\")\n",
    "else:\n",
    "    result = \"\"\n",
    "\n",
    "    if 18 <= time or time < 6:\n",
    "        if result == \"\":\n",
    "            result = \"Lights On\"\n",
    "        else:\n",
    "            result = result + \", Lights On\"\n",
    "\n",
    "    if temp > 30:\n",
    "        if result == \"\":\n",
    "            result = \"Fan/AC On\"\n",
    "        else:\n",
    "            result = result + \", Fan/AC On\"\n",
    "\n",
    "    if result == \"\":\n",
    "        print(\"Normal Mode\")\n",
    "    else:\n",
    "        print(result)\n"
   ]
  },
  {
   "cell_type": "code",
   "execution_count": null,
   "id": "0f9f0937-0511-434b-8d65-80ed0119815c",
   "metadata": {},
   "outputs": [],
   "source": []
  }
 ],
 "metadata": {
  "kernelspec": {
   "display_name": "Python [conda env:base] *",
   "language": "python",
   "name": "conda-base-py"
  },
  "language_info": {
   "codemirror_mode": {
    "name": "ipython",
    "version": 3
   },
   "file_extension": ".py",
   "mimetype": "text/x-python",
   "name": "python",
   "nbconvert_exporter": "python",
   "pygments_lexer": "ipython3",
   "version": "3.13.5"
  }
 },
 "nbformat": 4,
 "nbformat_minor": 5
}
