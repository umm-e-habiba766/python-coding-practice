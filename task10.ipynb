{
 "cells": [
  {
   "cell_type": "code",
   "execution_count": 1,
   "id": "33582468-2ece-48e9-a7c3-6d2f1b716f49",
   "metadata": {},
   "outputs": [
    {
     "name": "stdin",
     "output_type": "stream",
     "text": [
      "Enter marks:  95\n",
      "Enter family income:  25000\n"
     ]
    },
    {
     "name": "stdout",
     "output_type": "stream",
     "text": [
      "Full Scholarship\n"
     ]
    }
   ],
   "source": [
    "marks = int(input(\"Enter marks: \"))\n",
    "income = int(input(\"Enter family income: \"))\n",
    "\n",
    "if marks >= 85:\n",
    "    if income <= 50000:\n",
    "        print(\"Full Scholarship\")\n",
    "    else:\n",
    "        print(\"Half Scholarship\")\n",
    "else:\n",
    "    if marks >= 70:\n",
    "        if income < 30000:\n",
    "            print(\"Partial Scholarship\")\n",
    "        else:\n",
    "            print(\"Not Eligible\")\n",
    "    else:\n",
    "        print(\"Not Eligible\")\n"
   ]
  },
  {
   "cell_type": "code",
   "execution_count": null,
   "id": "abd3c7f1-83d8-4257-a871-5858275870c4",
   "metadata": {},
   "outputs": [],
   "source": []
  }
 ],
 "metadata": {
  "kernelspec": {
   "display_name": "Python [conda env:base] *",
   "language": "python",
   "name": "conda-base-py"
  },
  "language_info": {
   "codemirror_mode": {
    "name": "ipython",
    "version": 3
   },
   "file_extension": ".py",
   "mimetype": "text/x-python",
   "name": "python",
   "nbconvert_exporter": "python",
   "pygments_lexer": "ipython3",
   "version": "3.13.5"
  }
 },
 "nbformat": 4,
 "nbformat_minor": 5
}
