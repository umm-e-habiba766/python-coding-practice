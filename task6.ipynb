{
 "cells": [
  {
   "cell_type": "code",
   "execution_count": 7,
   "id": "5c6f4a7e-35f7-4dab-9048-687741441f7f",
   "metadata": {},
   "outputs": [
    {
     "name": "stdin",
     "output_type": "stream",
     "text": [
      "Enter marks of all subject: 40\n"
     ]
    },
    {
     "name": "stdout",
     "output_type": "stream",
     "text": [
      "Third division\n"
     ]
    }
   ],
   "source": [
    "marks=int(input(\"Enter marks of all subject:\"))\n",
    "if marks>=60:\n",
    "    print(\"First Division\")\n",
    "else:\n",
    "     if marks>=50 and marks<=60:\n",
    "        print(\"Second Division\")\n",
    "     else:\n",
    "         if marks >= 40:\n",
    "             print(\"Third division\")\n",
    "         else:\n",
    "             print(\"Failed\")\n",
    "\n"
   ]
  },
  {
   "cell_type": "code",
   "execution_count": null,
   "id": "9cddde97-5bb5-4018-b085-4e7c0062b67d",
   "metadata": {},
   "outputs": [],
   "source": []
  },
  {
   "cell_type": "code",
   "execution_count": null,
   "id": "9a5e1850-47f1-4f56-a00f-bdeda40e619d",
   "metadata": {},
   "outputs": [],
   "source": []
  }
 ],
 "metadata": {
  "kernelspec": {
   "display_name": "Python [conda env:base] *",
   "language": "python",
   "name": "conda-base-py"
  },
  "language_info": {
   "codemirror_mode": {
    "name": "ipython",
    "version": 3
   },
   "file_extension": ".py",
   "mimetype": "text/x-python",
   "name": "python",
   "nbconvert_exporter": "python",
   "pygments_lexer": "ipython3",
   "version": "3.13.5"
  }
 },
 "nbformat": 4,
 "nbformat_minor": 5
}
