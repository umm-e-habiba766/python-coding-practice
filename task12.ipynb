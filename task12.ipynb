{
 "cells": [
  {
   "cell_type": "code",
   "execution_count": 1,
   "id": "24823db9-786d-4866-af43-74210ea728a3",
   "metadata": {},
   "outputs": [
    {
     "name": "stdin",
     "output_type": "stream",
     "text": [
      "Enter age:  25\n",
      "Enter years of driving experience:  5\n"
     ]
    },
    {
     "name": "stdout",
     "output_type": "stream",
     "text": [
      "Normal Premium\n"
     ]
    }
   ],
   "source": [
    "age = int(input(\"Enter age: \"))\n",
    "experience = int(input(\"Enter years of driving experience: \"))\n",
    "\n",
    "if age < 25:\n",
    "    print(\"High Premium\")\n",
    "else:\n",
    "    if age <= 60:\n",
    "        if experience >= 5:\n",
    "            print(\"Normal Premium\")\n",
    "        else:\n",
    "            print(\"Medium Premium\")\n",
    "    else:\n",
    "        print(\"High Premium\")\n"
   ]
  },
  {
   "cell_type": "code",
   "execution_count": null,
   "id": "88762a1a-ea82-4abb-81b9-32da3059ad8e",
   "metadata": {},
   "outputs": [],
   "source": []
  }
 ],
 "metadata": {
  "kernelspec": {
   "display_name": "Python [conda env:base] *",
   "language": "python",
   "name": "conda-base-py"
  },
  "language_info": {
   "codemirror_mode": {
    "name": "ipython",
    "version": 3
   },
   "file_extension": ".py",
   "mimetype": "text/x-python",
   "name": "python",
   "nbconvert_exporter": "python",
   "pygments_lexer": "ipython3",
   "version": "3.13.5"
  }
 },
 "nbformat": 4,
 "nbformat_minor": 5
}
