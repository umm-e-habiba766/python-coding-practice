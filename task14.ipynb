{
 "cells": [
  {
   "cell_type": "code",
   "execution_count": 1,
   "id": "ebc19051-4c4c-4cb0-a093-a7edd48b7e2d",
   "metadata": {},
   "outputs": [
    {
     "name": "stdin",
     "output_type": "stream",
     "text": [
      "Enter room type:  luxury\n",
      "Enter number of nights:  4\n"
     ]
    },
    {
     "name": "stdout",
     "output_type": "stream",
     "text": [
      "Total Booking Cost: 0\n"
     ]
    }
   ],
   "source": [
    "room_type = input(\"Enter room type: \")\n",
    "nights = int(input(\"Enter number of nights: \"))\n",
    "\n",
    "cost = 0\n",
    "\n",
    "if room_type == \"Luxury\":\n",
    "    cost = 10000\n",
    "else:\n",
    "    if room_type == \"Deluxe\":\n",
    "        cost = 6000\n",
    "    else:\n",
    "        if room_type == \"Standard\":\n",
    "            cost = 3000\n",
    "\n",
    "total = cost * nights\n",
    "\n",
    "if nights > 5:\n",
    "    total = total * 0.85\n",
    "\n",
    "print(\"Total Booking Cost:\", total)\n"
   ]
  },
  {
   "cell_type": "code",
   "execution_count": null,
   "id": "a05c6c44-ec74-4024-927c-c9229d68f8e8",
   "metadata": {},
   "outputs": [],
   "source": []
  }
 ],
 "metadata": {
  "kernelspec": {
   "display_name": "Python [conda env:base] *",
   "language": "python",
   "name": "conda-base-py"
  },
  "language_info": {
   "codemirror_mode": {
    "name": "ipython",
    "version": 3
   },
   "file_extension": ".py",
   "mimetype": "text/x-python",
   "name": "python",
   "nbconvert_exporter": "python",
   "pygments_lexer": "ipython3",
   "version": "3.13.5"
  }
 },
 "nbformat": 4,
 "nbformat_minor": 5
}
