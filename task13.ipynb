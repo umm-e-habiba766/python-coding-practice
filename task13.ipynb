{
 "cells": [
  {
   "cell_type": "code",
   "execution_count": 1,
   "id": "e523329c-8b07-4430-b9c4-b95dc507e959",
   "metadata": {},
   "outputs": [
    {
     "name": "stdin",
     "output_type": "stream",
     "text": [
      "Are you registered? (yes/no):  yes\n",
      "Have you paid the exam fee? (yes/no):  yes\n",
      "Is the student caught cheating? (yes/no):  no\n"
     ]
    },
    {
     "name": "stdout",
     "output_type": "stream",
     "text": [
      "Access Granted\n"
     ]
    }
   ],
   "source": [
    "registered = input(\"Are you registered? : \")\n",
    "paid = input(\"Have you paid the exam fee? : \")\n",
    "cheating = input(\"Is the student caught cheating? : \")\n",
    "\n",
    "if registered == \"yes\":\n",
    "    registered = True\n",
    "else:\n",
    "    registered = False\n",
    "\n",
    "if paid == \"yes\":\n",
    "    paid = True\n",
    "else:\n",
    "    paid = False\n",
    "\n",
    "if cheating == \"yes\":\n",
    "    cheating = True\n",
    "else:\n",
    "    cheating = False\n",
    "\n",
    "if not registered:\n",
    "    print(\"Access Denied (Not Registered)\")\n",
    "else:\n",
    "    if not paid:\n",
    "        print(\"Access Denied (Payment Required)\")\n",
    "    else:\n",
    "        if cheating:\n",
    "            print(\"Account Blocked\")\n",
    "        else:\n",
    "            print(\"Access Granted\")\n"
   ]
  },
  {
   "cell_type": "code",
   "execution_count": null,
   "id": "9e303f2f-f088-4b51-8ad5-6cab4a63e1b6",
   "metadata": {},
   "outputs": [],
   "source": []
  }
 ],
 "metadata": {
  "kernelspec": {
   "display_name": "Python [conda env:base] *",
   "language": "python",
   "name": "conda-base-py"
  },
  "language_info": {
   "codemirror_mode": {
    "name": "ipython",
    "version": 3
   },
   "file_extension": ".py",
   "mimetype": "text/x-python",
   "name": "python",
   "nbconvert_exporter": "python",
   "pygments_lexer": "ipython3",
   "version": "3.13.5"
  }
 },
 "nbformat": 4,
 "nbformat_minor": 5
}
