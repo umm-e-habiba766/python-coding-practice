{
 "cells": [
  {
   "cell_type": "code",
   "execution_count": 2,
   "id": "50d1a49c-d2cd-48b9-9ff5-4980393ebc33",
   "metadata": {},
   "outputs": [
    {
     "name": "stdin",
     "output_type": "stream",
     "text": [
      "Enter a year:  29\n",
      "Enter a salary:  70000\n"
     ]
    },
    {
     "name": "stdout",
     "output_type": "stream",
     "text": [
      "Bonus: 14000.0\n"
     ]
    }
   ],
   "source": [
    "years=int(input(\"Enter a year: \"))\n",
    "salary=int(input(\"Enter a salary: \"))\n",
    "if years >= 10:\n",
    "    print(\"Bonus:\", salary * 0.2)\n",
    "\n",
    "if years < 10 and years >= 5:\n",
    "    print(\"Bonus:\", salary * 0.1)\n",
    "\n",
    "if years < 5 and salary < 30000:\n",
    "    print(\"Bonus:\", salary * 0.05)\n",
    "\n",
    "if not (years >= 10 or (years < 10 and years >= 5) or (years < 5 and salary < 30000)):\n",
    "    print(\"No Bonus\")"
   ]
  },
  {
   "cell_type": "code",
   "execution_count": null,
   "id": "236367d1-0f49-444a-8315-68db923ee911",
   "metadata": {},
   "outputs": [],
   "source": []
  }
 ],
 "metadata": {
  "kernelspec": {
   "display_name": "Python [conda env:base] *",
   "language": "python",
   "name": "conda-base-py"
  },
  "language_info": {
   "codemirror_mode": {
    "name": "ipython",
    "version": 3
   },
   "file_extension": ".py",
   "mimetype": "text/x-python",
   "name": "python",
   "nbconvert_exporter": "python",
   "pygments_lexer": "ipython3",
   "version": "3.13.5"
  }
 },
 "nbformat": 4,
 "nbformat_minor": 5
}
