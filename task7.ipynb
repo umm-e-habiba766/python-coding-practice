{
 "cells": [
  {
   "cell_type": "code",
   "execution_count": 1,
   "id": "064b6701-1343-4014-b130-6695f51121eb",
   "metadata": {},
   "outputs": [
    {
     "name": "stdin",
     "output_type": "stream",
     "text": [
      "Enter temperature:  23\n",
      "Enter weather condition (rainy/sunny/other):  sunny\n"
     ]
    },
    {
     "name": "stdout",
     "output_type": "stream",
     "text": [
      "Normal Day\n"
     ]
    }
   ],
   "source": [
    "temp = int(input(\"Enter temperature: \"))\n",
    "condition = input(\"Enter weather condition: \")\n",
    "\n",
    "if temp < 10:\n",
    "    print(\"Wear Heavy Jackets\")\n",
    "else:\n",
    "    if 10 <= temp <= 25:\n",
    "        if condition == \"rainy\":\n",
    "            print(\"Carry Umbrella & Light Sweater\")\n",
    "        else:\n",
    "            print(\"Normal Day\")\n",
    "    else:\n",
    "        if 25 <= temp <= 35 and condition == \"sunny\":\n",
    "            print(\"Go Outing\")\n",
    "        else:\n",
    "            if temp > 35:\n",
    "                print(\"Stay Indoors (Heat)\")\n",
    "            else:\n",
    "                print(\"Normal Day\")\n"
   ]
  },
  {
   "cell_type": "code",
   "execution_count": null,
   "id": "b2903272-77bc-4771-bb18-d03c653afa97",
   "metadata": {},
   "outputs": [],
   "source": []
  }
 ],
 "metadata": {
  "kernelspec": {
   "display_name": "Python [conda env:base] *",
   "language": "python",
   "name": "conda-base-py"
  },
  "language_info": {
   "codemirror_mode": {
    "name": "ipython",
    "version": 3
   },
   "file_extension": ".py",
   "mimetype": "text/x-python",
   "name": "python",
   "nbconvert_exporter": "python",
   "pygments_lexer": "ipython3",
   "version": "3.13.5"
  }
 },
 "nbformat": 4,
 "nbformat_minor": 5
}
