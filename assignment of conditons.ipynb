{
 "cells": [
  {
   "cell_type": "code",
   "execution_count": 1,
   "id": "253c7053-e116-43c2-9883-0562f7989eb7",
   "metadata": {},
   "outputs": [
    {
     "name": "stdin",
     "output_type": "stream",
     "text": [
      "Enter age:  45\n"
     ]
    },
    {
     "name": "stdout",
     "output_type": "stream",
     "text": [
      "Eligible to vote\n"
     ]
    }
   ],
   "source": [
    "#1-Eligible for Vote\n",
    "age = int(input(\"Enter age: \"))\n",
    "\n",
    "if age >= 18:\n",
    "    print(\"Eligible to vote\")\n",
    "else:\n",
    "    print(\"Not eligible to vote\")\n"
   ]
  },
  {
   "cell_type": "code",
   "execution_count": 2,
   "id": "1b764473-a4d1-47e6-bce5-b78e9c870abc",
   "metadata": {},
   "outputs": [
    {
     "name": "stdin",
     "output_type": "stream",
     "text": [
      "Enter height in cm:  6\n"
     ]
    },
    {
     "name": "stdout",
     "output_type": "stream",
     "text": [
      "Short\n"
     ]
    }
   ],
   "source": [
    "#2-Categorize Height\n",
    "height = float(input(\"Enter height in cm: \"))\n",
    "\n",
    "if height < 150:\n",
    "    print(\"Short\")\n",
    "elif 150 <= height < 165:\n",
    "    print(\"Average height\")\n",
    "elif 165 <= height < 195:\n",
    "    print(\"Tall\")\n",
    "else:\n",
    "    print(\"Abnormal height\")\n"
   ]
  },
  {
   "cell_type": "code",
   "execution_count": 6,
   "id": "b47a66ce-b47a-45e7-8ad3-a556dc9c1978",
   "metadata": {},
   "outputs": [
    {
     "name": "stdin",
     "output_type": "stream",
     "text": [
      "Enter marks in Mathematics:  80\n",
      "Enter marks in Physics:  95\n",
      "Enter marks in Chemistry:  55\n"
     ]
    },
    {
     "name": "stdout",
     "output_type": "stream",
     "text": [
      "Total marks of all subject:  230\n",
      "Total marks of math and physics:  175\n",
      "Eligible for admission\n"
     ]
    }
   ],
   "source": [
    "#3-Eligibility for Admission\n",
    "maths = int(input(\"Enter marks in Mathematics: \"))\n",
    "physics = int(input(\"Enter marks in Physics: \"))\n",
    "chemistry = int(input(\"Enter marks in Chemistry: \"))\n",
    "\n",
    "total_all = maths + physics + chemistry\n",
    "print(\"Total marks of all subject: \",total_all)\n",
    "total_mp = maths + physics\n",
    "print(\"Total marks of math and physics: \", total_mp)\n",
    "if (maths >= 65 and physics >= 55 and chemistry >= 50 and total_all >= 190) or (total_mp >= 140):\n",
    "    print(\"Eligible for admission\")\n",
    "else:\n",
    "    print(\"Not eligible for admission\")\n"
   ]
  },
  {
   "cell_type": "code",
   "execution_count": 7,
   "id": "109301fc-e238-4e66-809d-c60205dae107",
   "metadata": {},
   "outputs": [
    {
     "name": "stdin",
     "output_type": "stream",
     "text": [
      "Enter temperature in °C:  45\n"
     ]
    },
    {
     "name": "stdout",
     "output_type": "stream",
     "text": [
      "It's Very Hot\n"
     ]
    }
   ],
   "source": [
    "#4-Temperature Message\n",
    "temp = float(input(\"Enter temperature in °C: \"))\n",
    "\n",
    "if temp < 0:\n",
    "    print(\"Freezing weather\")\n",
    "elif temp <= 10:\n",
    "    print(\"Very Cold weather\")\n",
    "elif temp <= 20:\n",
    "    print(\"Cold weather\")\n",
    "elif temp <= 30:\n",
    "    print(\"Normal in Temp\")\n",
    "elif temp <= 40:\n",
    "    print(\"It's Hot\")\n",
    "else:\n",
    "    print(\"It's Very Hot\")\n"
   ]
  },
  {
   "cell_type": "code",
   "execution_count": 8,
   "id": "d783f552-7b69-401f-8a32-ed19b0cc17e6",
   "metadata": {},
   "outputs": [
    {
     "name": "stdin",
     "output_type": "stream",
     "text": [
      "Enter a character:  z\n"
     ]
    },
    {
     "name": "stdout",
     "output_type": "stream",
     "text": [
      "Alphabet\n"
     ]
    }
   ],
   "source": [
    "#5-Character Type\n",
    "ch = input(\"Enter a character: \")\n",
    "\n",
    "if ('a' <= ch <= 'z') or ('A' <= ch <= 'Z'):\n",
    "    print(\"Alphabet\")\n",
    "elif '0' <= ch <= '9':\n",
    "    print(\"Digit\")\n",
    "else:\n",
    "    print(\"Special character\")\n"
   ]
  },
  {
   "cell_type": "code",
   "execution_count": 10,
   "id": "00378875-96f7-4d25-9de8-b767be211949",
   "metadata": {},
   "outputs": [
    {
     "name": "stdin",
     "output_type": "stream",
     "text": [
      "Enter customer ID:  123\n",
      "Enter customer name:  hassan\n",
      "Enter units consumed:  200\n"
     ]
    },
    {
     "name": "stdout",
     "output_type": "stream",
     "text": [
      "Customer ID: 123\n",
      "Customer Name: hassan\n",
      "Units Consumed: 200\n",
      "Total Amount to Pay = 300.0\n"
     ]
    }
   ],
   "source": [
    "#6-Electricity Bill\n",
    "customer_id = input(\"Enter customer ID: \")\n",
    "name = input(\"Enter customer name: \")\n",
    "units = int(input(\"Enter units consumed: \"))\n",
    "\n",
    "if units <= 199:\n",
    "    charge_per_unit = 1.20\n",
    "elif units < 400:\n",
    "    charge_per_unit = 1.50\n",
    "elif units < 600:\n",
    "    charge_per_unit = 1.80\n",
    "else:\n",
    "    charge_per_unit = 2.00\n",
    "\n",
    "amount = units * charge_per_unit\n",
    "\n",
    "if amount > 400:\n",
    "    amount += amount * 0.15\n",
    "\n",
    "if amount < 100:\n",
    "    amount = 100\n",
    "\n",
    "print(f\"Customer ID: {customer_id}\")\n",
    "print(f\"Customer Name: {name}\")\n",
    "print(f\"Units Consumed: {units}\")\n",
    "print(\"Total Amount to Pay =\", amount)\n"
   ]
  },
  {
   "cell_type": "code",
   "execution_count": 11,
   "id": "aa2a890f-6bfb-4859-8528-9b4d1ba9ea51",
   "metadata": {},
   "outputs": [
    {
     "name": "stdin",
     "output_type": "stream",
     "text": [
      "Enter grade :  F\n"
     ]
    },
    {
     "name": "stdout",
     "output_type": "stream",
     "text": [
      "Fail\n"
     ]
    }
   ],
   "source": [
    "#7-Grade Description\n",
    "grade = input(\"Enter grade : \")\n",
    "\n",
    "if grade == \"E\":\n",
    "    print(\"Excellent\")\n",
    "elif grade == \"V\":\n",
    "    print(\"Very Good\")\n",
    "elif grade == \"G\":\n",
    "    print(\"Good\")\n",
    "elif grade == \"A\":\n",
    "    print(\"Average\")\n",
    "elif grade == \"F\":\n",
    "    print(\"Fail\")\n",
    "else:\n",
    "    print(\"Invalid Grade\")\n"
   ]
  },
  {
   "cell_type": "code",
   "execution_count": null,
   "id": "ae6f16b2-09e0-4010-b7ef-76e76aae8f25",
   "metadata": {},
   "outputs": [],
   "source": []
  }
 ],
 "metadata": {
  "kernelspec": {
   "display_name": "Python [conda env:base] *",
   "language": "python",
   "name": "conda-base-py"
  },
  "language_info": {
   "codemirror_mode": {
    "name": "ipython",
    "version": 3
   },
   "file_extension": ".py",
   "mimetype": "text/x-python",
   "name": "python",
   "nbconvert_exporter": "python",
   "pygments_lexer": "ipython3",
   "version": "3.13.5"
  }
 },
 "nbformat": 4,
 "nbformat_minor": 5
}
