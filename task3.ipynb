{
 "cells": [
  {
   "cell_type": "code",
   "execution_count": 3,
   "id": "d7fa2060-0e47-4b34-aadc-da0e4a61c456",
   "metadata": {},
   "outputs": [
    {
     "name": "stdin",
     "output_type": "stream",
     "text": [
      "Enter country name:  INDIA\n",
      "Enter order value: 4000\n"
     ]
    },
    {
     "name": "stdout",
     "output_type": "stream",
     "text": [
      "International Shipping Not Available\n"
     ]
    }
   ],
   "source": [
    "country=input(\"Enter country name: \")\n",
    "order_value=int(input(\"Enter order value:\"))\n",
    "if country == \"Pakistan\":   \n",
    "    if order_value >= 10000:\n",
    "        print(\"Free Shipping\")\n",
    "    else:\n",
    "        print(\"Delivery Charges: Rs.300\")\n",
    "else:\n",
    "    print(\"International Shipping Not Available\")"
   ]
  },
  {
   "cell_type": "code",
   "execution_count": 3,
   "id": "0687638f-3715-49c4-9227-b88ed1dc0513",
   "metadata": {},
   "outputs": [
    {
     "name": "stdout",
     "output_type": "stream",
     "text": [
      "3\n",
      "5\n",
      "6\n",
      "9\n",
      "10\n",
      "12\n",
      "15\n",
      "18\n",
      "20\n",
      "21\n",
      "24\n",
      "25\n",
      "27\n",
      "30\n",
      "33\n",
      "35\n",
      "36\n",
      "39\n",
      "40\n",
      "42\n",
      "45\n",
      "48\n",
      "50\n"
     ]
    }
   ],
   "source": [
    "i=1\n",
    "while i<=50:\n",
    "    if(i%3==0) and (i%5==0) :\n",
    "        print(i)\n",
    "        \n",
    "    i+=1"
   ]
  },
  {
   "cell_type": "code",
   "execution_count": 4,
   "id": "5c137e87-5180-42d0-ae7c-3b42cc11214b",
   "metadata": {},
   "outputs": [
    {
     "name": "stdout",
     "output_type": "stream",
     "text": [
      "4\n",
      "8\n",
      "12\n",
      "16\n",
      "20\n",
      "24\n",
      "28\n",
      "32\n",
      "36\n",
      "40\n"
     ]
    }
   ],
   "source": [
    "i = 4\n",
    "j = 1\n",
    "\n",
    "while j <= 10:\n",
    "    print( i * j)\n",
    "    j += 1"
   ]
  },
  {
   "cell_type": "code",
   "execution_count": 5,
   "id": "bfca9ecf-40ee-4ad0-9157-17d4dde55872",
   "metadata": {},
   "outputs": [
    {
     "name": "stdout",
     "output_type": "stream",
     "text": [
      "5\n",
      "10\n",
      "15\n",
      "20\n",
      "25\n",
      "30\n",
      "35\n",
      "40\n",
      "45\n",
      "50\n"
     ]
    }
   ],
   "source": [
    "i=5\n",
    "j=1\n",
    "while j<=10:\n",
    "    print(i*j)\n",
    "    j+=1"
   ]
  },
  {
   "cell_type": "code",
   "execution_count": null,
   "id": "59ca0701-1c59-4b48-b785-ff719b785400",
   "metadata": {},
   "outputs": [],
   "source": []
  }
 ],
 "metadata": {
  "kernelspec": {
   "display_name": "Python [conda env:base] *",
   "language": "python",
   "name": "conda-base-py"
  },
  "language_info": {
   "codemirror_mode": {
    "name": "ipython",
    "version": 3
   },
   "file_extension": ".py",
   "mimetype": "text/x-python",
   "name": "python",
   "nbconvert_exporter": "python",
   "pygments_lexer": "ipython3",
   "version": "3.13.5"
  }
 },
 "nbformat": 4,
 "nbformat_minor": 5
}
