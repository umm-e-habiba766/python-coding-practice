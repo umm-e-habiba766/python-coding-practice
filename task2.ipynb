{
 "cells": [
  {
   "cell_type": "code",
   "execution_count": 8,
   "id": "b9ca9f3f-8eae-4933-900b-8b3823799743",
   "metadata": {},
   "outputs": [
    {
     "name": "stdin",
     "output_type": "stream",
     "text": [
      "Enter marks:  60\n",
      "Enter entry test marks:  75\n"
     ]
    },
    {
     "name": "stdout",
     "output_type": "stream",
     "text": [
      "Ineligible\n"
     ]
    }
   ],
   "source": [
    "marks = int(input(\"Enter marks: \"))\n",
    "entry_test = int(input(\"Enter entry test marks: \"))\n",
    "\n",
    "if marks >= 70:\n",
    "    if marks > 80:\n",
    "        if entry_test >= 70:\n",
    "            print(\"Direct Admission\")\n",
    "        else:\n",
    "            print(\"Ineligible\")\n",
    "    if 70 <= marks <= 79:\n",
    "        if entry_test >= 60:\n",
    "            print(\"Interview Required\")\n",
    "        else:\n",
    "            print(\"Ineligible\")\n",
    "    if marks == 80:   \n",
    "        print(\"Ineligible\")\n",
    "else:\n",
    "    print(\"Ineligible\")  \n",
    "            "
   ]
  },
  {
   "cell_type": "code",
   "execution_count": null,
   "id": "462c8181-6cb2-489d-9498-d7559f30051d",
   "metadata": {},
   "outputs": [],
   "source": []
  }
 ],
 "metadata": {
  "kernelspec": {
   "display_name": "Python [conda env:base] *",
   "language": "python",
   "name": "conda-base-py"
  },
  "language_info": {
   "codemirror_mode": {
    "name": "ipython",
    "version": 3
   },
   "file_extension": ".py",
   "mimetype": "text/x-python",
   "name": "python",
   "nbconvert_exporter": "python",
   "pygments_lexer": "ipython3",
   "version": "3.13.5"
  }
 },
 "nbformat": 4,
 "nbformat_minor": 5
}
