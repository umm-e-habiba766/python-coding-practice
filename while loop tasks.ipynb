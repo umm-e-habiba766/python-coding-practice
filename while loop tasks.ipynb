{
 "cells": [
  {
   "cell_type": "code",
   "execution_count": 4,
   "id": "109bf0ae-20fb-455f-ad41-ff1b044466b1",
   "metadata": {},
   "outputs": [
    {
     "name": "stdin",
     "output_type": "stream",
     "text": [
      "Enter a number 1234\n"
     ]
    },
    {
     "name": "stdout",
     "output_type": "stream",
     "text": [
      "4321\n"
     ]
    }
   ],
   "source": [
    "# 1-Reverse number\n",
    "n=int(input(\"Enter a number\"))\n",
    "rev=0\n",
    "while n>0:\n",
    "    digit = n% 10        \n",
    "    rev = rev * 10 + digit\n",
    "    n = n // 10 \n",
    "print(rev)\n"
   ]
  },
  {
   "cell_type": "code",
   "execution_count": 5,
   "id": "4483bd01-5be3-4da8-8b2e-07d269aba663",
   "metadata": {},
   "outputs": [
    {
     "name": "stdin",
     "output_type": "stream",
     "text": [
      "Enter a number:  2\n",
      "Enter a number:  4\n",
      "Enter a number:  5\n",
      "Enter a number:  -1\n"
     ]
    },
    {
     "name": "stdout",
     "output_type": "stream",
     "text": [
      "Sum of all numbers: 11\n"
     ]
    }
   ],
   "source": [
    "#2- stop at -1\n",
    "total = 0\n",
    "while True:\n",
    "    num = int(input(\"Enter a number: \"))\n",
    "    if num == -1:\n",
    "        break\n",
    "    total += num\n",
    "\n",
    "print(\"Sum of all numbers:\", total)"
   ]
  },
  {
   "cell_type": "code",
   "execution_count": 14,
   "id": "6d02872b-bc69-4a75-a514-afede4c68d1d",
   "metadata": {},
   "outputs": [
    {
     "name": "stdin",
     "output_type": "stream",
     "text": [
      "Enter number of terms:  5\n"
     ]
    },
    {
     "name": "stdout",
     "output_type": "stream",
     "text": [
      "0 1 1 2 3 "
     ]
    }
   ],
   "source": [
    "#3-Fibonacci series\n",
    "n = int(input(\"Enter number of terms: \"))\n",
    "\n",
    "a = 0\n",
    "b = 1\n",
    "count = 0\n",
    "\n",
    "while count < n:\n",
    "    print(a, end=\" \")\n",
    "    temp = a\n",
    "    a = b\n",
    "    b = temp + b\n",
    "    count += 1"
   ]
  },
  {
   "cell_type": "code",
   "execution_count": null,
   "id": "59fe842d-b480-4dc3-837e-9adf64fe4d97",
   "metadata": {},
   "outputs": [],
   "source": []
  }
 ],
 "metadata": {
  "kernelspec": {
   "display_name": "Python [conda env:base] *",
   "language": "python",
   "name": "conda-base-py"
  },
  "language_info": {
   "codemirror_mode": {
    "name": "ipython",
    "version": 3
   },
   "file_extension": ".py",
   "mimetype": "text/x-python",
   "name": "python",
   "nbconvert_exporter": "python",
   "pygments_lexer": "ipython3",
   "version": "3.13.5"
  }
 },
 "nbformat": 4,
 "nbformat_minor": 5
}
