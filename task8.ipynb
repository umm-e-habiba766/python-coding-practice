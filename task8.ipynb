{
 "cells": [
  {
   "cell_type": "code",
   "execution_count": 2,
   "id": "064b6701-1343-4014-b130-6695f51121eb",
   "metadata": {},
   "outputs": [
    {
     "name": "stdin",
     "output_type": "stream",
     "text": [
      "Enter balance:  1000000\n"
     ]
    },
    {
     "name": "stdout",
     "output_type": "stream",
     "text": [
      "Premium\n"
     ]
    }
   ],
   "source": [
    "balance = int(input(\"Enter balance: \"))\n",
    "\n",
    "if balance >= 1000000:\n",
    "    print(\"Premium\")\n",
    "else:\n",
    "    if balance >= 100000:\n",
    "        print(\"Gold\")\n",
    "    else:\n",
    "        if balance >= 10000:\n",
    "            print(\"Silver\")\n",
    "        else:\n",
    "            print(\"Basic\")\n"
   ]
  },
  {
   "cell_type": "code",
   "execution_count": null,
   "id": "765aa94c-9b59-4c39-b46e-4577df2b3962",
   "metadata": {},
   "outputs": [],
   "source": []
  }
 ],
 "metadata": {
  "kernelspec": {
   "display_name": "Python [conda env:base] *",
   "language": "python",
   "name": "conda-base-py"
  },
  "language_info": {
   "codemirror_mode": {
    "name": "ipython",
    "version": 3
   },
   "file_extension": ".py",
   "mimetype": "text/x-python",
   "name": "python",
   "nbconvert_exporter": "python",
   "pygments_lexer": "ipython3",
   "version": "3.13.5"
  }
 },
 "nbformat": 4,
 "nbformat_minor": 5
}
