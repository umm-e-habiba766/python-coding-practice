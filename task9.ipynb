{
 "cells": [
  {
   "cell_type": "code",
   "execution_count": 1,
   "id": "d6a7d472-8f5a-457b-b705-688decc123d5",
   "metadata": {},
   "outputs": [
    {
     "name": "stdin",
     "output_type": "stream",
     "text": [
      "Enter age:  25\n",
      "Enter ticket price:  30.00\n",
      "Enter showtime (24-hour format):  2\n"
     ]
    },
    {
     "name": "stdout",
     "output_type": "stream",
     "text": [
      "Final Ticket Price: 30.0\n"
     ]
    }
   ],
   "source": [
    "age = int(input(\"Enter age: \"))\n",
    "price = float(input(\"Enter ticket price: \"))\n",
    "showtime = int(input(\"Enter showtime : \"))\n",
    "\n",
    "if age < 12:\n",
    "    ticket = price * 0.5\n",
    "else:\n",
    "    if age <= 60:\n",
    "        ticket = price\n",
    "    else:\n",
    "        ticket = price * 0.8\n",
    "\n",
    "if showtime > 22:\n",
    "    ticket = ticket * 0.9\n",
    "\n",
    "print(\"Final Ticket Price:\", ticket)\n"
   ]
  },
  {
   "cell_type": "code",
   "execution_count": null,
   "id": "cff76158-d2e0-48ec-a213-fd3bd3a5ae14",
   "metadata": {},
   "outputs": [],
   "source": []
  }
 ],
 "metadata": {
  "kernelspec": {
   "display_name": "Python [conda env:base] *",
   "language": "python",
   "name": "conda-base-py"
  },
  "language_info": {
   "codemirror_mode": {
    "name": "ipython",
    "version": 3
   },
   "file_extension": ".py",
   "mimetype": "text/x-python",
   "name": "python",
   "nbconvert_exporter": "python",
   "pygments_lexer": "ipython3",
   "version": "3.13.5"
  }
 },
 "nbformat": 4,
 "nbformat_minor": 5
}
